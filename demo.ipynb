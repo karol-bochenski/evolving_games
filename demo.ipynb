{
 "cells": [
  {
   "cell_type": "markdown",
   "metadata": {},
   "source": [
    "# Sandbox for development"
   ]
  },
  {
   "cell_type": "markdown",
   "metadata": {},
   "source": [
    "game_generator presentation, requires \"PyYAML\" library to save/load game definition in concise, human-readable way"
   ]
  },
  {
   "cell_type": "code",
   "execution_count": 1,
   "metadata": {},
   "outputs": [],
   "source": [
    "import game_generator"
   ]
  },
  {
   "cell_type": "code",
   "execution_count": 2,
   "metadata": {},
   "outputs": [
    {
     "name": "stdout",
     "output_type": "stream",
     "text": [
      "0.0%\n",
      "10.0%\n",
      "20.0%\n",
      "30.0%\n",
      "40.0%\n",
      "50.0%\n",
      "60.0%\n",
      "70.0%\n",
      "80.0%\n",
      "90.0%\n"
     ]
    }
   ],
   "source": [
    "game_generator.generatePlayable(outputDir=\"generated/games\", n=20) #will generate files game_0.yml to game_20.yml in directory \"generated/games\""
   ]
  },
  {
   "cell_type": "markdown",
   "metadata": {},
   "source": [
    "generated games are also tested, 3 conditions have to be met in 20 random playouts to pass a game as initially 'playable':\n",
    "  - each of two players have to win at least once\n",
    "  - no game can end in less than 8 rounds\n",
    "  - every piece on board must at least once be able to move during all playouts"
   ]
  },
  {
   "cell_type": "markdown",
   "metadata": {},
   "source": [
    "## Generated space"
   ]
  },
  {
   "cell_type": "markdown",
   "metadata": {},
   "source": [
    "### Searchable space\n",
    "- dimension of table, rectangular\n",
    "- types of pawns\n",
    "  - possible moves\n",
    "  - possible attack moves\n",
    "- initial placement of pawns\n",
    "  - not scattered randomly\n",
    "- winning condition\n",
    "  - could specify a single target square that pawns have to reach\n",
    "  - could specify multiple targets that pawns have to reach (maybe at the same time)\n",
    "  - specific piece type have to be removed to win\n",
    "  - an amount of enemy pieces left have to be reached\n",
    "\n",
    "### Game elements\n",
    "\n",
    "- game definition:\n",
    "  - initial placement of pieces\n",
    "  - definition of types of pieces\n",
    "\n",
    "- piece type:\n",
    "  - holds its all possible move definitions\n",
    "\n",
    "- move definition:\n",
    "  - 3 types, hop, leap, slide \n",
    "  - defines movement relative to its piece\n",
    "  - defines conditions for the move (e.g. only to empty square or have to jump over an enemy)\n",
    "\n",
    "- move conditions:\n",
    "  - only allow to make a move when specific scenario is met\n",
    "\n",
    "- board:\n",
    "  - rectangular (with x,y coordinates)\n",
    "  - enumerable\n",
    "  - keeps track all pieces and their owners\n",
    "\n",
    "- game state:\n",
    "  - current position of all pieces in the game\n",
    "  - has all information needed to define all legal moves for the next turn\n",
    "\n",
    "- win conditions:\n",
    "  - defines condition that have to be met in a game state for a specific player to lose e.g:\n",
    "    - win if a piece reaches the other side of the board\n",
    "    - win if a specific enemy piece is removed from the board\n",
    "    - win if 2 or more specified squares on the boards are taken by a player"
   ]
  },
  {
   "cell_type": "markdown",
   "metadata": {},
   "source": [
    "## Example of generated game\n",
    "\n",
    "```yaml\n",
    "dimensions: 7x5\n",
    "pieces:\n",
    "- '1':\n",
    "    moves:\n",
    "    - canAttack: true\n",
    "      hop: FFR\n",
    "    - leap: FR\n",
    "      if: origin facing L ally\n",
    "    - slide: R\n",
    "placement: 1111110 1100011\n",
    "player2mirrored: true\n",
    "winConditions:\n",
    "  piecePlacedAt:\n",
    "    3: 0,1,2\n",
    "```\n",
    "\n",
    "This specific game is played on a board with 7 columns and 5 rows,\n",
    "it has only one piece, with 4 possible moves, each of all 3 types:\n",
    "  - hop: FFR, means that a piece can move 'Forward Forward Right' from its current position, 'canAttack: true' means that the move can end on an enemy piece, which causes the enemy piece to be removed\n",
    "  - leap: FR, means that a piece can 'leap' over a square that is 'Forward Right' from its current position, landing on a square behind it. Additionaly leaping over an enemy piece causes this enemy to be removed. This move also comes with condition 'if: origin facing L ally'. Origin means that this condition is checked relative to pieces current position, if it was \"Destination\" it would be checked against the square that the move ends on. Next part of this condition 'facing L ally'] means that the first piece on the left of current position has to be a piece of the same player. If this condition is not satisfied, the move cannot be made\n",
    "  - slide: R, means that a piece can 'slide' in 'Right' direction, effectively being able to land on any piece on it's right side, until it reaches border of the board, hits an ally or lands on an enemy.\n",
    "  \n",
    "\"placement: 1111110 1100011\" describes how the pieces are distributed across the board. Here there are two rows, space-separated. Zero means that no piece is placed on a square, other numbers represent piece identifiers.\n",
    "player2mirrored is a field that tells whether enemy pieces should be mirrored along the x axis when they are placed on the opposite side of the board\n",
    "winConditions represents all conditions that have to be met for a game to end with a winner\n",
    "piecePlacedAt... means that any piece from player 1 have to land on 3rd row on any of these columns (0,1 or 2)"
   ]
  },
  {
   "cell_type": "code",
   "execution_count": 6,
   "metadata": {},
   "outputs": [],
   "source": [
    "import yaml\n",
    "import utils\n",
    "game_path = \"./generated/games/game_10.yml\"\n",
    "game = utils.fromFile(game_path)"
   ]
  },
  {
   "cell_type": "code",
   "execution_count": 7,
   "metadata": {},
   "outputs": [
    {
     "name": "stdout",
     "output_type": "stream",
     "text": [
      "dimensions: 8x5\n",
      "pieces:\n",
      "- '3':\n",
      "    moves:\n",
      "    - leap: FR\n",
      "- '3':\n",
      "    moves:\n",
      "    - slide: BR\n",
      "- '3':\n",
      "    moves:\n",
      "    - canAttack: true\n",
      "      hop: FFF\n",
      "- '3':\n",
      "    moves:\n",
      "    - leap: R\n",
      "    - canAttack: true\n",
      "      hop: FR\n",
      "    - leap: BR\n",
      "    - slide: B\n",
      "    - canAttack: true\n",
      "      hop: RRR\n",
      "placement: 04133140 00022000\n",
      "player2mirrored: true\n",
      "winConditions:\n",
      "  EnemyTotalPiecesLeft: 2\n",
      "\n"
     ]
    }
   ],
   "source": [
    "for line in yaml.dump(game.toDict()).split(\"\\n\"):\n",
    "    print(line)"
   ]
  },
  {
   "cell_type": "markdown",
   "metadata": {},
   "source": [
    "# Graphical interface (in progress)"
   ]
  },
  {
   "cell_type": "markdown",
   "metadata": {},
   "source": []
  },
  {
   "cell_type": "code",
   "execution_count": 8,
   "metadata": {},
   "outputs": [],
   "source": [
    "import app #requires pygame\n",
    "from threading import Thread"
   ]
  },
  {
   "cell_type": "code",
   "execution_count": 9,
   "metadata": {},
   "outputs": [],
   "source": [
    "# you can play agains another human, mcts agent, or just look at two mcts agents playing\n",
    "# more agent are in progress\n",
    "player1agent = \"USER\"\n",
    "player2agent = \"MCTS\""
   ]
  },
  {
   "cell_type": "code",
   "execution_count": 10,
   "metadata": {},
   "outputs": [],
   "source": [
    "gameThread = app.startGameThread(game, player1agent, player2agent)"
   ]
  },
  {
   "cell_type": "code",
   "execution_count": 14,
   "metadata": {},
   "outputs": [
    {
     "name": "stdout",
     "output_type": "stream",
     "text": [
      "Player: \u001b[92m1\u001b[0m\n",
      "\\ 0 1 2 3 4 5 6 7\n",
      "0| :\u001b[92m1\u001b[0m:\u001b[92m1\u001b[0m:\u001b[92m1\u001b[0m:\u001b[92m1\u001b[0m:\u001b[92m1\u001b[0m:\u001b[92m1\u001b[0m: :|\n",
      "1| : : :\u001b[92m1\u001b[0m:\u001b[92m1\u001b[0m: : : :|\n",
      "2| : : : : : : : :|\n",
      "3| : : :\u001b[91m2\u001b[0m:\u001b[91m2\u001b[0m: : : :|\n",
      "4| :\u001b[91m2\u001b[0m:\u001b[91m2\u001b[0m:\u001b[91m2\u001b[0m:\u001b[91m2\u001b[0m:\u001b[91m2\u001b[0m:\u001b[91m2\u001b[0m: :|\n"
     ]
    }
   ],
   "source": [
    "app.theApp.game_state.printState() # can interact with game state, mid playout"
   ]
  },
  {
   "cell_type": "code",
   "execution_count": 1,
   "metadata": {},
   "outputs": [
    {
     "ename": "NameError",
     "evalue": "name 'gameThread' is not defined",
     "output_type": "error",
     "traceback": [
      "\u001b[0;31m---------------------------------------------------------------------------\u001b[0m",
      "\u001b[0;31mNameError\u001b[0m                                 Traceback (most recent call last)",
      "\u001b[0;32m<ipython-input-1-864acd22d6a0>\u001b[0m in \u001b[0;36m<module>\u001b[0;34m\u001b[0m\n\u001b[0;32m----> 1\u001b[0;31m \u001b[0mgameThread\u001b[0m\u001b[0;34m.\u001b[0m\u001b[0mjoin\u001b[0m\u001b[0;34m(\u001b[0m\u001b[0;34m)\u001b[0m\u001b[0;34m\u001b[0m\u001b[0;34m\u001b[0m\u001b[0m\n\u001b[0m",
      "\u001b[0;31mNameError\u001b[0m: name 'gameThread' is not defined"
     ]
    }
   ],
   "source": [
    "gameThread.join()"
   ]
  },
  {
   "cell_type": "code",
   "execution_count": null,
   "metadata": {},
   "outputs": [],
   "source": []
  }
 ],
 "metadata": {
  "kernelspec": {
   "display_name": "Python 3.7.3 64-bit ('base': conda)",
   "language": "python",
   "name": "python37364bitbaseconda90570563548946fda5d81178b1e94c5b"
  },
  "language_info": {
   "codemirror_mode": {
    "name": "ipython",
    "version": 3
   },
   "file_extension": ".py",
   "mimetype": "text/x-python",
   "name": "python",
   "nbconvert_exporter": "python",
   "pygments_lexer": "ipython3",
   "version": "3.7.3"
  }
 },
 "nbformat": 4,
 "nbformat_minor": 2
}
